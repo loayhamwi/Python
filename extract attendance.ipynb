{
 "cells": [
  {
   "cell_type": "markdown",
   "id": "89931edd",
   "metadata": {},
   "source": [
    "# Extract the attendance of specific subjects\n",
    "\n",
    "* Download the attendance file\n",
    "* Run the commands"
   ]
  },
  {
   "cell_type": "code",
   "execution_count": 98,
   "id": "7d15f44c",
   "metadata": {},
   "outputs": [],
   "source": [
    "import pandas as pd\n",
    "attendance_df=pd.read_csv('report.csv')"
   ]
  },
  {
   "cell_type": "code",
   "execution_count": 131,
   "id": "35958cd9",
   "metadata": {
    "scrolled": true
   },
   "outputs": [
    {
     "data": {
      "text/html": [
       "<div>\n",
       "<style scoped>\n",
       "    .dataframe tbody tr th:only-of-type {\n",
       "        vertical-align: middle;\n",
       "    }\n",
       "\n",
       "    .dataframe tbody tr th {\n",
       "        vertical-align: top;\n",
       "    }\n",
       "\n",
       "    .dataframe thead th {\n",
       "        text-align: right;\n",
       "    }\n",
       "</style>\n",
       "<table border=\"1\" class=\"dataframe\">\n",
       "  <thead>\n",
       "    <tr style=\"text-align: right;\">\n",
       "      <th></th>\n",
       "      <th>SessionDate</th>\n",
       "      <th>SessionName</th>\n",
       "      <th>SessionIdentifier</th>\n",
       "      <th>SessionInstanceIdentifier</th>\n",
       "      <th>SessionOwner</th>\n",
       "      <th>RoomOpened</th>\n",
       "      <th>RoomClosed</th>\n",
       "      <th>NameOfAttendee</th>\n",
       "      <th>FirstNameOfAttendee</th>\n",
       "      <th>LastNameOfAttendee</th>\n",
       "      <th>EmailOfAttendee</th>\n",
       "      <th>Username</th>\n",
       "      <th>AttendeeRole</th>\n",
       "      <th>AttendeeType</th>\n",
       "      <th>AttendeeFirstJoinTime</th>\n",
       "      <th>AttendeeLastLeaveTime</th>\n",
       "      <th>AttendeeTotalTimeInSession</th>\n",
       "      <th>AttendeeTotalRejoins</th>\n",
       "      <th>ContextName</th>\n",
       "      <th>ContextIdentifier</th>\n",
       "    </tr>\n",
       "  </thead>\n",
       "  <tbody>\n",
       "    <tr>\n",
       "      <th>0</th>\n",
       "      <td>2024-03-14 00:00:00</td>\n",
       "      <td>المحاضرة المباشرة يوم الخميس - توقيت رمضان</td>\n",
       "      <td>d66b5ec3b8774ce7a8373490cddc4f3c</td>\n",
       "      <td>487ea16e-43e0-4f85-84fb-31e702a1a4cd</td>\n",
       "      <td>SEU-EU_lti_production</td>\n",
       "      <td>2024-03-15 00:23:18</td>\n",
       "      <td>2024-03-15 00:28:34</td>\n",
       "      <td>ABDULAZIZ MUTHEEB MOHAMMED ALSUBAIE</td>\n",
       "      <td>ABDULAZIZ</td>\n",
       "      <td>ALSUBAIE</td>\n",
       "      <td>s230015936@seu.edu.sa</td>\n",
       "      <td>s230015936</td>\n",
       "      <td>Participant</td>\n",
       "      <td>Integration</td>\n",
       "      <td>NaN</td>\n",
       "      <td>NaN</td>\n",
       "      <td>NaN</td>\n",
       "      <td>NaN</td>\n",
       "      <td>(Current Semester - الفصل الحالي)CS-003: Compu...</td>\n",
       "      <td>CS-003-26031-202320</td>\n",
       "    </tr>\n",
       "    <tr>\n",
       "      <th>1</th>\n",
       "      <td>2024-03-15 00:00:00</td>\n",
       "      <td>Week 7 - Live Session 3/16/24</td>\n",
       "      <td>fca3ad643f814d8ca1f567546a68af77</td>\n",
       "      <td>ea76a0bc-84a3-4374-a13c-7dfe436f6acf</td>\n",
       "      <td>SEU-EU_lti_production</td>\n",
       "      <td>2024-03-15 00:23:36</td>\n",
       "      <td>2024-03-15 02:12:56</td>\n",
       "      <td>Tiffany Horn Horn</td>\n",
       "      <td>Tiffany</td>\n",
       "      <td>Horn</td>\n",
       "      <td>th.horn@seu.edu.sa</td>\n",
       "      <td>th.horn</td>\n",
       "      <td>Moderator</td>\n",
       "      <td>Integration</td>\n",
       "      <td>2024-03-15 00:23:39</td>\n",
       "      <td>2024-03-15 02:07:27</td>\n",
       "      <td>1:43:48</td>\n",
       "      <td>1.0</td>\n",
       "      <td>(Current Semester - الفصل الحالي)HQS-510: Qual...</td>\n",
       "      <td>HQS-510-24829-202320</td>\n",
       "    </tr>\n",
       "    <tr>\n",
       "      <th>2</th>\n",
       "      <td>2024-01-24 00:00:00</td>\n",
       "      <td>(Current Semester - الفصل الحالي)CI-001: Acade...</td>\n",
       "      <td>35316e1c68574aa09a2ee63a5fbabeae</td>\n",
       "      <td>cc90890a-fe66-4529-a4b4-443fb606d4ec</td>\n",
       "      <td>SEU-EU_lti_production</td>\n",
       "      <td>2024-03-15 01:23:35</td>\n",
       "      <td>2024-03-15 01:31:00</td>\n",
       "      <td>HAYA AWADH MUSALLAM ALSHAMMARI</td>\n",
       "      <td>HAYA</td>\n",
       "      <td>ALSHAMMARI</td>\n",
       "      <td>s230018336@seu.edu.sa</td>\n",
       "      <td>s230018336</td>\n",
       "      <td>Participant</td>\n",
       "      <td>Integration</td>\n",
       "      <td>2024-03-15 01:24:13</td>\n",
       "      <td>2024-03-15 01:25:15</td>\n",
       "      <td>0:01:02</td>\n",
       "      <td>1.0</td>\n",
       "      <td>(Current Semester - الفصل الحالي)CI-001: Acade...</td>\n",
       "      <td>CI-001-26083-202320</td>\n",
       "    </tr>\n",
       "  </tbody>\n",
       "</table>\n",
       "</div>"
      ],
      "text/plain": [
       "           SessionDate  ...     ContextIdentifier\n",
       "0  2024-03-14 00:00:00  ...   CS-003-26031-202320\n",
       "1  2024-03-15 00:00:00  ...  HQS-510-24829-202320\n",
       "2  2024-01-24 00:00:00  ...   CI-001-26083-202320\n",
       "\n",
       "[3 rows x 20 columns]"
      ]
     },
     "execution_count": 131,
     "metadata": {},
     "output_type": "execute_result"
    }
   ],
   "source": [
    "attendance_df.head(3)"
   ]
  },
  {
   "cell_type": "code",
   "execution_count": 101,
   "id": "b1249754",
   "metadata": {},
   "outputs": [
    {
     "data": {
      "text/plain": [
       "213324"
      ]
     },
     "execution_count": 101,
     "metadata": {},
     "output_type": "execute_result"
    }
   ],
   "source": [
    "len(attendance_df)"
   ]
  },
  {
   "cell_type": "code",
   "execution_count": 114,
   "id": "4a0c00ea",
   "metadata": {},
   "outputs": [
    {
     "data": {
      "text/plain": [
       "str"
      ]
     },
     "execution_count": 114,
     "metadata": {},
     "output_type": "execute_result"
    }
   ],
   "source": [
    "# here you can add the patterns\n",
    "pattern1 ='^DENG-\\d{3}-\\d{5}-202320$'\n",
    "pattern2 ='^DMED-\\d{3}-\\d{5}-202320$'\n",
    "pattern3 ='^DENG-\\d{3}-\\d{5}-202330$'\n",
    "combinedpattern=f'({pattern1})|({pattern2})|({pattern3})'\n",
    "type(combinedpattern)"
   ]
  },
  {
   "cell_type": "code",
   "execution_count": 115,
   "id": "1f82784a",
   "metadata": {},
   "outputs": [
    {
     "data": {
      "text/plain": [
       "'(^DENG-\\\\d{3}-\\\\d{5}-202320$)|(^DMED-\\\\d{3}-\\\\d{5}-202320$)|(^DENG-\\\\d{3}-\\\\d{5}-202330$)'"
      ]
     },
     "execution_count": 115,
     "metadata": {},
     "output_type": "execute_result"
    }
   ],
   "source": [
    "combinedpattern"
   ]
  },
  {
   "cell_type": "code",
   "execution_count": 120,
   "id": "4eb813a5",
   "metadata": {
    "scrolled": false
   },
   "outputs": [
    {
     "name": "stderr",
     "output_type": "stream",
     "text": [
      "C:\\Users\\Loay\\AppData\\Local\\Temp\\ipykernel_13296\\176159250.py:2: UserWarning: This pattern is interpreted as a regular expression, and has match groups. To actually get the groups, use str.extract.\n",
      "  filtered_df=attendance_df['ContextIdentifier'].str.contains(combinedpattern)\n"
     ]
    }
   ],
   "source": [
    "# filter the results for two subjects only -- will get the list of index and result if the course exists.\n",
    "filtered_df=attendance_df['ContextIdentifier'].str.contains(combinedpattern)"
   ]
  },
  {
   "cell_type": "code",
   "execution_count": 129,
   "id": "15257b3a",
   "metadata": {},
   "outputs": [],
   "source": [
    "final_df=df[filtered_df==True].query('AttendeeRole==\"Participant\"')"
   ]
  },
  {
   "cell_type": "code",
   "execution_count": 130,
   "id": "f40f6c48",
   "metadata": {
    "scrolled": true
   },
   "outputs": [
    {
     "data": {
      "text/plain": [
       "8138"
      ]
     },
     "execution_count": 130,
     "metadata": {},
     "output_type": "execute_result"
    }
   ],
   "source": [
    "len(final_df)"
   ]
  },
  {
   "cell_type": "code",
   "execution_count": 51,
   "id": "4081cef0",
   "metadata": {},
   "outputs": [],
   "source": [
    "# here write the title of file.\n",
    "file_name='attendance 3-15-24 to 3-25-24.csv'\n",
    "final_df.to_csv(file_name)"
   ]
  }
 ],
 "metadata": {
  "kernelspec": {
   "display_name": "Python 3 (ipykernel)",
   "language": "python",
   "name": "python3"
  },
  "language_info": {
   "codemirror_mode": {
    "name": "ipython",
    "version": 3
   },
   "file_extension": ".py",
   "mimetype": "text/x-python",
   "name": "python",
   "nbconvert_exporter": "python",
   "pygments_lexer": "ipython3",
   "version": "3.11.5"
  }
 },
 "nbformat": 4,
 "nbformat_minor": 5
}
